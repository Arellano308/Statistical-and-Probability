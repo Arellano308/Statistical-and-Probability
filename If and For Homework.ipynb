{
 "cells": [
  {
   "cell_type": "markdown",
   "metadata": {},
   "source": [
    "# If and For Program"
   ]
  },
  {
   "cell_type": "raw",
   "metadata": {},
   "source": [
    "Homework"
   ]
  },
  {
   "cell_type": "code",
   "execution_count": 1,
   "metadata": {},
   "outputs": [
    {
     "name": "stdout",
     "output_type": "stream",
     "text": [
      "How much names do you want to introduce4\n",
      "Introduce the name: Danna\n",
      "Introduce the name: Marco\n",
      "Introduce the name: Rodrigo\n",
      "Introduce the name: Laura\n",
      "\n",
      "Which name do you want show?. Consider 0 to The number of values you putted2\n",
      "The name that you choiced was: Rodrigo\n"
     ]
    }
   ],
   "source": [
    "values= int(input(\"How much names do you want to introduce\"))\n",
    "names=[]\n",
    "for i in range(0,values):\n",
    "    x=input(\"Introduce the name: \")\n",
    "    names.append(x)\n",
    "place=int(input(\"\\nWhich name do you want show?. Consider 0 to The number of values you putted\"))\n",
    "if place in range(0,values):\n",
    "    print(\"The name that you choiced was:\",names[place])\n",
    "else:\n",
    "    print(\"\\n\\nChose a exist number, Consider 0 to The number of values you putted\")\n",
    "    place=int(input(\"Which name do you want show?\"))\n",
    "    if place in range(0,values):\n",
    "        print(\"The name that you choiced was:\",names[place])"
   ]
  }
 ],
 "metadata": {
  "kernelspec": {
   "display_name": "Python 3",
   "language": "python",
   "name": "python3"
  },
  "language_info": {
   "codemirror_mode": {
    "name": "ipython",
    "version": 3
   },
   "file_extension": ".py",
   "mimetype": "text/x-python",
   "name": "python",
   "nbconvert_exporter": "python",
   "pygments_lexer": "ipython3",
   "version": "3.7.4"
  }
 },
 "nbformat": 4,
 "nbformat_minor": 2
}
