{
 "cells": [
  {
   "cell_type": "markdown",
   "metadata": {},
   "source": [
    "# Standar Deviation, Mean and Mode"
   ]
  },
  {
   "cell_type": "markdown",
   "metadata": {},
   "source": [
    "The program calculates the Standar Deviation, Mean and The mode, firstly the program asks to the user, which operation wants to do, then it ask the amount of data and after that request the set of data to make the correspondent operations and shows the result."
   ]
  },
  {
   "cell_type": "code",
   "execution_count": 3,
   "metadata": {},
   "outputs": [
    {
     "name": "stdout",
     "output_type": "stream",
     "text": [
      "Which Operation do you want to Calculate??\n",
      "        Press 1 for Sample mean\n",
      "        Press 2 for Mode\n",
      "        Press 3 for Standar deviation\n",
      "        3\n",
      "How many values you want introduce?\n",
      "4\n",
      "Introduce value1: 1\n",
      "Introduce value2: 2\n",
      "Introduce value3: 3\n",
      "Introduce value4: 4\n",
      "\n",
      "Standar deviation: 1.2909944487358056\n"
     ]
    }
   ],
   "source": [
    "n=0\n",
    "a=0\n",
    "x=0\n",
    "r=0\n",
    "num=[]\n",
    "repeat=0\n",
    "sum_x = 0\n",
    "prom_x = 0\n",
    "a=int(input(\"\"\"Which Operation do you want to Calculate??\n",
    "        Press 1 for Sample mean\n",
    "        Press 2 for Mode\n",
    "        Press 3 for Standar deviation\n",
    "        \"\"\"))\n",
    "if a==1:\n",
    "    n=int(input(\"How many values you want introduce?\\n\"))\n",
    "    for i in range(0,n):\n",
    "        x=int(input(f\"Introduce value{i+1}: \"))\n",
    "        sum_x+=x\n",
    "        prom_x=sum_x/n\n",
    "        r+=(x-prom_x)\n",
    "        sd=(r/(n-1))**0.5\n",
    "    print(\"\\nSample mean:\",prom_x)\n",
    "if a==2:\n",
    "    n=int(input(\"How many values you want introduce?\\n\"))\n",
    "    for i in range(0,n):\n",
    "        x=int(input(f\"Introduce value {i+1}: \"))                                                                     \n",
    "        num.append(x)\n",
    "        for i in num:                                                                              \n",
    "            times = num.count(i)                                                             \n",
    "            if times > repeat:                                                       \n",
    "                repeat = times                                                       \n",
    "                                                                                         \n",
    "        mode = []                                                                               \n",
    "        for i in num:                                                                              \n",
    "            times = num.count(i)                                                             \n",
    "            if times == repeat and i not in mode:                                   \n",
    "                mode.append(i)\n",
    "    print(\"\\nThe Mode is:\",mode)\n",
    "    \n",
    "if a==3:\n",
    "    n=int(input(\"How many values you want introduce?\\n\"))\n",
    "    for i in range(0,n):\n",
    "        x=int(input(f\"Introduce value{i+1}: \"))\n",
    "        sum_x+=x\n",
    "        prom_x=sum_x/n\n",
    "        r+=(x-prom_x)\n",
    "        sd=(r/(n-1))**0.5\n",
    "    print(\"\\nStandar deviation:\",sd)"
   ]
  },
  {
   "cell_type": "code",
   "execution_count": null,
   "metadata": {},
   "outputs": [],
   "source": []
  }
 ],
 "metadata": {
  "kernelspec": {
   "display_name": "Python 3",
   "language": "python",
   "name": "python3"
  },
  "language_info": {
   "codemirror_mode": {
    "name": "ipython",
    "version": 3
   },
   "file_extension": ".py",
   "mimetype": "text/x-python",
   "name": "python",
   "nbconvert_exporter": "python",
   "pygments_lexer": "ipython3",
   "version": "3.7.4"
  }
 },
 "nbformat": 4,
 "nbformat_minor": 2
}
