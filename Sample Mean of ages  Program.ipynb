{
 "cells": [
  {
   "cell_type": "markdown",
   "metadata": {},
   "source": [
    "# Sample Mean program"
   ]
  },
  {
   "cell_type": "markdown",
   "metadata": {},
   "source": [
    "This program  works asking to students what is their age and name, before ask to each student the program calculates the Sample mean, adding each age of the three students and divided by the number of students. \n"
   ]
  },
  {
   "cell_type": "code",
   "execution_count": 9,
   "metadata": {},
   "outputs": [
    {
     "name": "stdout",
     "output_type": "stream",
     "text": [
      "What is your name?Marco\n",
      "Hi..!! Marco\n",
      "How old are you??19\n",
      "What is your name?Danna\n",
      "Hi..!! Danna\n",
      "How old are you??18\n",
      "What is your name?Martin\n",
      "Hi..!! Martin\n",
      "How old are you??8\n",
      "\n",
      "\n",
      "The Sample Mean of ages is: 15\n"
     ]
    }
   ],
   "source": [
    "name=input(\"What is your name?\")\n",
    "print(\"Hi..!!\",name)\n",
    "age=int(input(\"How old are you??\"))\n",
    "\n",
    "name=input(\"What is your name?\")\n",
    "print(\"Hi..!!\",name)\n",
    "age1=int(input(\"How old are you??\"))\n",
    "\n",
    "name=input(\"What is your name?\")\n",
    "print(\"Hi..!!\",name)\n",
    "age2=int(input(\"How old are you??\"))\n",
    "\n",
    "sm=int((age+age1+age2)/3)\n",
    "print(\"\\n\\nThe Sample Mean of ages is:\",sm)"
   ]
  }
 ],
 "metadata": {
  "kernelspec": {
   "display_name": "Python 3",
   "language": "python",
   "name": "python3"
  },
  "language_info": {
   "codemirror_mode": {
    "name": "ipython",
    "version": 3
   },
   "file_extension": ".py",
   "mimetype": "text/x-python",
   "name": "python",
   "nbconvert_exporter": "python",
   "pygments_lexer": "ipython3",
   "version": "3.7.4"
  }
 },
 "nbformat": 4,
 "nbformat_minor": 2
}
