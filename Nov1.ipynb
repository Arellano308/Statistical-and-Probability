{
 "cells": [
  {
   "cell_type": "markdown",
   "metadata": {},
   "source": [
    "## FOR loop##\n"
   ]
  },
  {
   "cell_type": "code",
   "execution_count": 5,
   "metadata": {},
   "outputs": [
    {
     "name": "stdout",
     "output_type": "stream",
     "text": [
      "Hello Hello Hello Hello Hello Hello Hello Hello Hello Hello "
     ]
    }
   ],
   "source": [
    "for i in range (0,10):\n",
    "        print (\"Hello\", end=' ')"
   ]
  },
  {
   "cell_type": "code",
   "execution_count": 6,
   "metadata": {},
   "outputs": [
    {
     "name": "stdout",
     "output_type": "stream",
     "text": [
      "Evelyn Marlen Yuri Carlos "
     ]
    }
   ],
   "source": [
    "names=[\"Evelyn\", \"Marlen\", \"Yuri\", \"Carlos\"]\n",
    "for name in names:\n",
    "    print(name, end=' ')"
   ]
  },
  {
   "cell_type": "code",
   "execution_count": 11,
   "metadata": {},
   "outputs": [
    {
     "name": "stdout",
     "output_type": "stream",
     "text": [
      "How much data do you want to introduce3\n",
      "Introduce the age: 4\n",
      "Introduce the age: 5\n",
      "Introduce the age: 6\n",
      "This is your sample: \n",
      "4 5 6 \n",
      "The sample mean is =5.0\n"
     ]
    }
   ],
   "source": [
    "values= int(input(\"How much data do you want to introduce\"))\n",
    "ages=[]\n",
    "total =0\n",
    "for i in range(0,values):\n",
    "    x=int(input(\"Introduce the age: \"))\n",
    "    ages.append(x)\n",
    "    total += x\n",
    "print (\"This is your sample: \")\n",
    "\n",
    "for age in ages:\n",
    "    print (age, end= ' ')\n",
    "\n",
    "sample_mean= total/values\n",
    "\n",
    "print (f\"\\nThe sample mean is ={sample_mean}\")\n",
    "    \n",
    "    "
   ]
  },
  {
   "cell_type": "code",
   "execution_count": null,
   "metadata": {},
   "outputs": [],
   "source": [
    "values= int(input(\"How much names do you want to introduce\"))\n",
    "names=[]\n",
    "total=0\n"
   ]
  }
 ],
 "metadata": {
  "kernelspec": {
   "display_name": "Python 3",
   "language": "python",
   "name": "python3"
  },
  "language_info": {
   "codemirror_mode": {
    "name": "ipython",
    "version": 3
   },
   "file_extension": ".py",
   "mimetype": "text/x-python",
   "name": "python",
   "nbconvert_exporter": "python",
   "pygments_lexer": "ipython3",
   "version": "3.7.4"
  }
 },
 "nbformat": 4,
 "nbformat_minor": 2
}
