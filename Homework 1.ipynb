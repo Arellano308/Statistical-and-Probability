{
 "cells": [
  {
   "cell_type": "markdown",
   "metadata": {},
   "source": [
    "![UTLOGO](data:image/jpeg;base64,/9j/4AAQSkZJRgABAQAAAQABAAD/2wCEAAkGBxAQEhUSERAQFhIWGRIXEhUQFhUSFRcVFxUWFxcSFRMYHSggGBolGxUVIjEiJSkrLjIuFx8zODMsNygtLisBCgoKDg0OGxAQGjAgHyUtLS0rLS0rNy0uLS0tLS0tLSsrLS0tLi0tLSstLS0tKy0tLSstLS0tLS0tLS0tLS0tLf/AABEIAIcBdQMBEQACEQEDEQH/xAAbAAEAAQUBAAAAAAAAAAAAAAAABgECAwUHBP/EAEMQAAIBAgIGBQgHBwQDAQAAAAABAgMRBDEFBhIhQVETIlNh0RYycXKBkZLBFBUzNEKxskNSc4KhovBig8LhI1STJP/EABoBAQACAwEAAAAAAAAAAAAAAAADBAIFBgH/xAA0EQEAAgECAgcGBgIDAQAAAAAAAQIDBBEFMRITIUFRUnEVMoGhscEUMzRhkdFC8CLh8SP/2gAMAwEAAhEDEQA/AOGgAAAAAAAAAAAAAAAAAAAAAAAAAAAAAAAAAAAAAAAAAAAAAAAAAAAAAAAAAAAAAAAAAAAAAAAAAAAAAAAAAAAAAAAAAAAAAAD24PRlSpFzvGFNbnOo9mN+S5+wyisyr5dTTHbo9s28I7Ze7CaDhWuqeIUms/8AxzUb+sexSJ5SrZddfF23x7R6xv8Aw1+N0dUpJN7MoPcpwe1Fvlfg/SYzWYWsOopl7I7J8J5vIeJwAAAAAAAAAAAAAAABJ9V9AwrRdSsm4vdBXayzlu93vJaU37ZabiOvtitFMc9vf/Te+TGE7N/FLxM+rq1vtPU+b5HkxhOzfxS8R1dT2nqfN8ni0vofB4elKo6e9boralvk8lmeWrWI3WNLrNVnyxSLevZ3IQQOjAAAD2aJwLr1Y01xfWfKKzZ7WN52QanPGHFN5+Hqm/kxhOzfxS8Sfq6ub9p6nzfJXyYwnZv4peI6up7T1Pm+R5MYTs38UvEdXU9p6nzfI8mMJ2b+KXiOrqe09T5vkeTGE7N/FLxHV1Paep83yPJjCdm/il4jq6ntPU+b5HkxhOzfxS8R1dT2nqfN8jyYwnZv4peI6up7T1Pm+SK6z0KFKoqdGNnHz3dve8o7+XzIrxETtDd8OvmyU6eWefJpTBsFyWYFoADoa1ZwnZv4peJY6urlPaep83yV8mMJ2b+KXiOrqe09T5vkeTGE7N/FLxHV1Paep83yPJjCdm/il4jq6ntPU+b5NLrDqyoR6SgnZedDe36y8DC+PvhsNDxObT0M0+k/ZFSJu3r0XhVVqKMt0VeU3/pirv8AzvPaxvKDU5Zx45mOfKPWUgp6QjKFKFSmrVZtU4xtHo6alFJb073a/oyTfsjdqraea3valvdjeZnvnaVkdIxTqwowVOrHpHTm2m31rzgtyS3JtLfkOlziGU6a0xS+WelWdt4+k/22mj9CbcXOstl1Irbp024xvntSX73csjKKeKnn13RtFcfb0Z7Jnn6R+yE4zDulOUHnFtf9kMxtOzosWSMlIvHexJHiRL9BarRcdvEJ3eULtWXN9/cTVx+LQazilot0cM9kd/i2nkxhOzfxS8TLq6qftPU+b5MdXVbDO1otWd3vbuuQ6uGVeK6iN953ZPJjCdm/il4jq6sfaep83yanWbQtCjRc6cGpbUVe7e5+kxvWIjsXuH63NlzdG87xsiJC3oAAAAAAD1aMwUq9WNOPF73ySzfuPaxvOyDUZow45vPc6dh6MacYwirRikl6EWojZx17ze02tzlkDEAgOt2k+mq7EX1Kd13OXF/L3kGS287On4Xpuqx9Oedvo0JG2YAAATvU/RvRU+kkuvUtbuhw9+fuJ8ddo3czxXU9Zk6Ecq/VISRqwAAAAAAHi0xj1h6Uqjzyiucnkjy07RusaXTznyxSPj6OZVajk3Ju7bbb73vbKrsa1isREcoWh6ujkwLQAHW0W3CqgAAACHa2aCjBOvTsl+OPe350fAhyU74b/hmum0xhv2+E/wBtTq7UlGdRxttdFU2U1e7Vnaz7kzGi7rqxatYty6UbthXxVH/805UmnZOPRy2Ypqo7rZafEymY7FamLL/9a1t67x2z2M2Do0ZY3o1Rs4znOUpScr2TdlHK12hER0tkWW+Wuj6c27JiI22+6Wup1lHjZt+hNL5/0ZM0fR/49Jz7WenL6ROey1GT6ra3OySdn7Cvfm6rh1q9RWu/bHNvdVtAKKjXqq8mk4R4JPKT7zOlO+Ws4jr5tM4qcu+fH9koJWmAAADRa5/dn60TDJ7rZcJ/UfCUAK7qAAAAAAAE71P0Z0VPpZLrzy7ocPfn7ifHXaN3NcV1PWZOrryj6pCSNUAanWTSX0ei2vPl1YfOXsMb22hd0Gm6/LtPKO2f6c6bKzrVAAADZav6O+kVlF+autP0Lh7cjKld5U9dqeoxTbv5Q6Slbcsiy5HfdUAAAAA8AAEA1s0n01XYi+pDcu+XF/L2EGS28up4ZpuqxdKec/RoiNsgC6OTAtAAT7U7FVKtGTqTlJqbScnfdsx3FjHMzHa5jiuKmPLEUjbs+8t8ZtYg2teOrQxDjCrUirR3RlKKy5JkGSZiXR8NwYr4Im1Ymd55w8ejNP16U1KU5zjlKM5OW7uvkzyt5iVnUcPw5abViKz3TEOiRd1csOTnsanWv7rU/l/UjC/ur3Df1Nfj9EAweJlSnGcc4u//AEQRO07uoy465KTS3KUmxNShXpbcKG3su6p0m4SjtefdJPddLelbeSztMcmnx1zYcvRtfbfvntiduSyjpKjHE0qig4uSXSycpNx6ri4tW4Wi7nnSjfdlfTZZ096Tbfaf+Mbc+3ff7Nvh9IwntzU4razd11IK+yu6T3vfuV+NjOLbqGTT2ptWY5fOe/4fXZG9Z9KxrSjCn9lT3LvfP0EV7b8m34dpbYaze/vSm2i/saXqQ/SievJzuo/Ov6z9XonKyb5XZ6hiN52c60jp+vVm5RqThH8MYScUl32zZXm8zLrMGgw46dGaxafGYe/VjTdbpVTnKU4zduu23F2zTf5HtLzvsrcR0WLqpvWOjMeEc04J3NtFrn92frRMMnutnwn9R8JQAruoAAAAAA2mr2jfpFVJrqR60/Ry9plSu8qWu1PUYpmOc9kOjpWLLklQKN2A5xrFpL6RWbT6kerD0c/ayte28uu0Om6jFETzntl59E4CWIqxprJ75PlFZsVjedkmqzxgxzefh6ukU8FSiklThZJJdVFjaHIzmyTO82n+V30Wn2cPhXge7Q862/mn+T6NT7OHwobQdbfzT/KCawaVcqzVF7EI9VdH1NprNu2e8r3t29jptDpYriicsbzPb29uyur0a+IrKLq1diPWn15ZLhnxyFN5l5rpw4MUzFY3nsjsh0AsOXAAEM1u0xLpFSpTklDz3FtXlyuuRDkt27Q6Dhejr0OsvG+/LfwR/wCsK/bVfjl4kfSltPw+LyR/EH1hX7ar8cvEdKT8Pi8kfxB9YVu2q/HLxG8n4fF5I/iHmPEwAAujkwLQAE41F+wn/Ef6Yk+Lk5vjP51fT7ykhI1Ln+uP3l+rH8ivk951HCv08estRhcPOpJQgm5PJIxiN1/JkrjrNrTtDqsFZL0ItOInm1Wtf3Wp/L+pGF/dXuG/qa/H6OdFd1iT6lYWFTpdpZdHZpuMlfbykt6Jccb7tNxfLfH0OjPj9u5J/qyPa17ctv52v/Ul6LTfiZ8tf4/2Pkh2t2FhSqxjCKitlZcXd72+LIckREug4XlvkxTa879rREbZOpaL+xpepD9KLVeTi9R+df1n6s9VXi13P8j1FWdpiXKa1KUJOMk1JbmnwKnJ29L1vWLVneJKVWUGpRbTWTWaBasWja0bw9f1xie2qe8y6U+KD8Hg8kMeI0hWqLZnUnJcm7o8m0yzpp8VJ3rWIl5TxMAAAACqQHRtW9G/R6KTXXlaU/Twj7PEs0rtDktfqevyztyjsj+/i2pkpAEe1w0n0VPoovr1M+6HH35e8jyW2jZtOF6brMnWTyr9UEIHTJ9qjozoaW3JdepZ+iPBfMsY67Q5jieq63J0I5V+rfGbWAGl1q0n0FLZi+vO6j3LjL/OZhe20Nhw3Tddl3nlH+w56V3VOiasaN6CirrrztKXPuj7PmWKV2hyfENT12Xs5R2R/bcGaiAa/TmkFh6Up/iygucn4Z+wxtbaFnR6ec+WK93f6Oazk2227t3bfe+JWdhEREbQtD0AAAAAC6OTAtAATjUX7Cf8R/piT4uTm+M/nV9PvKSEjUvLX0fRqPanSpylzlFN+882iU1NRlpG1bTEeq7D4GjTd4UoRfOMUmIiIeXz5MkbXtM+svQeokb1x0nCNN0c5ytdL8KTvdkeS0bbNtwrTXtkjL3R80HIHSJdqD+2/wBr/mTYu9ouNf4fH7JcStEg2vH28fUX5sgy83ScH/Jn1RwjbZ0PVrSkK1KMFunCKUo9yVtpdxYpbeHKcQ0t8WSbTymef2bkzUHnr4GjN7U6VOT5yjGT97R5tEpaZ8tI2raYj9pY/qrD/wDr0f8A5w8B0Y8GX4rP55/mWh1k1bTXSUIpNedCKsmucVz7iO9O+Gz0HEpieryzv4T/AGhpC6AAAAAACQaoaM6Wr0kl1Kf9ZcF7M/cSY67zu1fFNT1ePoRzt9E8J3MgFlarGEXKTtFJtvuQZUpN7RWvOXMdKY6VerKpLjkuUeCKtp3nd2OmwRhxxSHs1Z0Z9IqraX/jhvn38o+0ypXeVfiGp6jF2c57I/t0UsOUALZzUU23ZK7bfBLiHsRMztDmmm9IPEVZT4ZQXKKy+b9pWtbeXYaTTxgxRTv7/V7NVNG9NW2pLqQ6z5N8I/P2HtK7yr8S1PVYto5z2f26CWHLAADnutOk+nq2i+pDdHvfGX+cive28uq4bpupxbzzntn+mlMGwAAAAAAAXRyYFoACcai/YT/iP9MSfFyc3xn86vp95SQkala6iWbXtYexWZ7iM08mn6A8mJjmuAi2t+h4uLxEd0lbbXCW+1/SRZK97dcL1lotGG3bHd+yGELoEu1B/bf7X/Mmxd7Rca/w+P2S4laJBtePt4+ovzZBl5uk4P8Akz6o4Rtsy4bESpyU4NqSyaPYnZhkx1yVmto3iXQdB6bhiIb2o1F50cvau4sVvu5XWaK+C3Z21nlLZ9LH96PvRkp9G3grGSeTT9G8PJiY5rgIhrhoiEV08NzulNcG3+Jd5Fkr3t7wrWWtPU27fBEiFvQAAAvo0nOSjFXlJpJd7EMb3ilZtPKHTtFYGNClGmuHnPnJ5stVjaNnHanPObJN5/2HrPUABE9ddJ2SoRe92dS3LhH5+4iyW7m74Rpt5nNb0j+0QjFtpLN7l6SFvpmIjeXStA6OWHoqP43vm/8AU+HsyLNa7Q5HW6mc+Wbd3c2JkqAEY100nsQVGL60t8+6PL2/IjyW7m44Tpulbrbco5ev/SFxi20lm9yIHQzMRG8ulaB0esPRjD8T3zf+p+GXsLNa7Q5DWajr8s27u70bEyVQDSa1aT6ClsxfXndRtwXGX+czC9tobDhum67LvPKP92c+K7qgAAAAAAAC6OTAtAATjUX7Cf8AEf6Yk+Lk5vjP51fT7ykhI1Ln+uP3l+rH8ivk951HCv08estdo3SFTDzU4P0rhJcmYxMxK3qNPTPTo2/8dPpyuk+aTLTjZjadmr1p+61P5f1Ixv7q5w79TX4/RzkrOtS7UH9t/tf8ybF3tFxr/D4/ZLiVokG14+3j6i/NkGXm6Tg/5M+qOEbbM6wdXsqnwy8D3aUfXY/NH8jwdVb3TqW43jLwG0kZsc/5R/LAeJG41VxM4YiEYyaU3aS4NWZnSe1Q4ljrbBaZjtjk6IWHKNHrl92frQ/Mwye62PCv1Eekufld1IAAASzUrRl268llup358ZfL3kuOve0fF9TtHU1+P9JgTNCAAIvpHVOVWrOoqyW027Si21fhe5FOPed925wcWjFjinQ5fuyaI1WVGoqk6ins74pRt1uDzPa49p3Yarik5cc0rXbf90kJGpAMOMxMaUJVJPqxV38l7WeTO0bs8WO2W8UrzlzDHYqVapKpLOTb9C4L2IrTO87uyw4q4qRSvc3mpujekqdLJdWnl3z4e7P3GeOu87tdxXU9DH1cc5+ick7mwC2c1FNt2S3t9wexEzO0Oaab0g8RVlP8OUFyisvErWtvLr9Jp4wYor39/q8BitAAAAAAAAF0cmBaAAnGov2E/wCI/wBMSfFyc3xn86vp95SQkalz/XH7y/Vj+RXye86jhX6ePWWswGCnXmoQV28+SXNvgjGI3XM+emGk3vLqNONklySRacZad53avWn7rU/l/UjG/urnDv1Nfj9HOSs61L9QotdNdP8AZZ/zk2LvaHjUxPQ+P2S0laNB9d4vpouztsLf7WQZebo+DzHUzH7o2Rtu6vhPMj6sfyRbjk4jJ78+smKpbcJQvbajKN/SmrieRjt0LxbwmJcyxmAqUpuE4u65JtNcGnyKsxMOxxajHlpFqy2WquAqSrxmotRg7yb3cHZLmzKkTup8S1FK4Zrv2zydALDl2j1y+7P1ofmYZPdbHhX6iPSXPyu6kAAX0obUlHm0ve7Bja3RrM+DqmFoRpwjCKtGKSXsLcRs4rJeclptbnLKGAAAAAAACGa6aT2pKhF7o2c/W4L2EOS3c6DhOl6Neut38vRGaNKU5KMVeTaSXeyJuL2ilZtPKHTtF4KNClGmuGb5yebLVY2jZxuozzmyTeXrPUIBGNdNJ7EFRi+tLfPujy9r/IjyW7m44Tpulbrbco5ev/SFEDogAAAAAAAABdHJgWgAOs0qcYrqpL0KxbcNa02ntndeHjFPDwk7uEW+bSY2hlGS8RtEyrToxj5sYr0JIbFr2tzndkDFFNbtNQ2Xh4Wbdtt8FZ3su/cRZLdzd8L0VulGa3ZHd+6HELfurYRdSPqx/JFuOTiMk/8AOfWWYMGr1l+7VPR80Y391c4f+oq5uVnXOr4TzI+rH8kW45OIye/PrLKGCjQBICoEM1u03Gougp2aT68u9fhRDkvv2Q6DhmitSetv2eEIsRN0AAKxk001mt6DyYiY2l0/RWkIYimpxavu2lxjLimWqzvDjdTp7YMk1t8P3h7D1AAAAAABr9NaTjh6bk2tppqEeb8DG1toWdJprZ8kVjl3y5rUqOTcpO7bu2+ZWdhWsVjaOSUalaNu3Xkty3Q9PGXsy9rJcde9peL6naIw17+aZEzQAGHGYmNKEqksopt+Amdo3Z4sdsl4pXnLmGOxUq1SVSWcnf0cl7irM7zu7LDijFSKV7mA8SgAAAAAAAAC6OTAtAAdLWnML29P3lnp18XH/gdR5JPrzC9vT946dfE/A6jySfXmF7en7x06+J+B1Hkk+vML29P3jp18T8DqPJLT6w6yxUdjDyvJ5zXBcl3mF8ndDYaHhkzbp5o2iO7xQ1shdAoB0jD6bwqhFOvC6Ub7+4sxaPFyN9FqJtM9Cea/68wvb0/eOnXxY/gdR5Ja/T+lsPPD1IwqwcmtyT3veY3tEwtaLSZqZ62tWYhBCB0zo+G01hVCKdeF0o339xZi0eLksmi1E2mYpPNdW09hlFtVoNpNpJ5tLIdOHldBnm0RNZgo6fwsop9NFX4S3NdzHTgtoNRWZjozK/67wvb0/eOnHix/BajySj+smsiknSoS3Pzpr9MfEjvfuhtNBw2YnrMsekf2iZE3gAAAAM+FxdSk9qnOUX3fPmexMxyR5MVMsbXjdsfKbF9p/bHwMussqezNN5fmeU2L7T+2PgOssezNN5fmeU2L7T+2PgOssezNN5fmvpaw4yWVT+2PgOnY9maby/Nn+usX2y+GI6dj2ZpvL82Krp/GR/abuajHwHTsezNN5fm0+JxM6ktqcnKXNmMzuuY8dMcdGkbQxHjNtcLrDiKcFCEoqMVZLZiZxeYUcnD8GS02tHbP7svlTi/34/DEdZZh7L03h8zypxf78fhiOssey9N4fN5dIaZr10o1J3jnZJJX77Znk2meafBosOGelSO1rzFaAMlGF3vy4gVryi/NSsBiAAAAAABdHJgWgAAAAAAAAAAAAAAAAAAAAAAAAAAAAAAHuqy2IpL/ADvPXrxbT5s8eL3Wk1a+4DLQoK21LIC6KpydkgLMRTSaSQGWrShHe17ALalKLjtRAx4ehtb3kBkvSyt7d4GGrGKe53QGTF01G1kApUk4N237wK4WkpJ3QF0I029lLeB569PZdgMYAABdHJgWgAMlR5Hgq3vQCS3gVT3sC2L3MAnZAV2nZAUjK7Aqne9wKRdlcCjllzArOVmBWU8gKN9UCspMCkXmwKSldd56LAAAAAAAAAHtVqkbcUevWB4afI8eK1MPsq7auBmgtuFlmevWKjh5XTatY8eLsX5y/wA4norj+Ht+R4K0vs37T0MO9qDjx3gYfo0uR4LKlNxe8D14mDkk1vPXqiWzTd894FMJ5r/zgBgw3nI8eLsZ53uAwAAAF0cmBaAAvmtyPBc80Ajm13gFmwLaWYkKnBAVTaSsBSGYFyd7pgWxuluArLhzApVzEBPgA/CBdNsC2KYFZZbwMZ6AAAAAAAAFYyayAyfSZ8/6ICyU282AjNrJgXOvJ8QLZTbzYCdRvNgVVRpWvuAti2sgMn0ifP8AIDG3cC6FWSyYFJ1G82BWNRrcmBbGTW9AVlJvewLQAACqYFAAFykwKbTAXArtsCiYBu4FVN8wG0wKbTAKTAOTAN3AOTYDaYFdt8wKKTAOTYFAAAAAAAAAAAAAAAAAAAAAAAAAAAAAAAAAAAAAAAAAAAAAAAAAAAAAAAAAP//Z)"
   ]
  },
  {
   "cell_type": "markdown",
   "metadata": {},
   "source": [
    "![Python Logo](https://upload.wikimedia.org/wikipedia/commons/thumb/c/c3/Python-logo-notext.svg/1200px-Python-logo-notext.svg.png)"
   ]
  },
  {
   "cell_type": "markdown",
   "metadata": {},
   "source": [
    "# Homework"
   ]
  },
  {
   "cell_type": "markdown",
   "metadata": {},
   "source": [
    "#      =Strings and Text=\n",
    "\n"
   ]
  },
  {
   "cell_type": "markdown",
   "metadata": {},
   "source": [
    "\n",
    "A string is usually a bit of text you want to display to someone or ”export” out of the program you are writing. Python knows you want something to be a string when you put either \" (double-quotes) or ' (single-quotes) around the text. You saw this many times with your use of print when you put the text you want to go inside the string inside \" or ' after the print to print the string.\n",
    "Strings can contain any number of variables that are in your Python script. Remember that a variable is anylineofcodewhereyousetaname=(equal)toavalue. Inthecodeforthisexercise,types_of_people = 10createsavariablenamedtypes_of_peopleandsetsit=(equal)to10. Youcanputthatinanystring with {types_of_people}. You also see that I have to use a special type of string to ”format”; it’s called an ”f-string” and looks like this: f”some stuff here { avariable}” f”some other stuff {anothervar}”\n"
   ]
  },
  {
   "cell_type": "markdown",
   "metadata": {},
   "source": [
    "#       Example"
   ]
  },
  {
   "cell_type": "code",
   "execution_count": 14,
   "metadata": {},
   "outputs": [
    {
     "name": "stdout",
     "output_type": "stream",
     "text": [
      "There are 20 types of dudes\n",
      "They can be GOOD!! and also they can be BAD :(\n",
      "I told you: There are 20 types of dudes\n",
      "And also I told you:'They can be GOOD!! and also they can be BAD :('\n",
      "This was a good example?!\n",
      "This is a good writting of.......a string example\n"
     ]
    }
   ],
   "source": [
    "types_of_dudes=20\n",
    "x=f\"There are {types_of_dudes} types of dudes\"\n",
    "good=\"GOOD!!\"\n",
    "bad= \"BAD :(\"\n",
    "y=f\"They can be {good} and also they can be {bad}\"\n",
    "\n",
    "print(x)\n",
    "print(y)\n",
    "print(f\"I told you: {x}\")\n",
    "print(f\"And also I told you:'{y}'\")\n",
    "\n",
    "writting= True\n",
    "\n",
    "was_good_writting=\"This was a good example?!\"\n",
    "print(was_good_writting.format(writting))\n",
    "a=\"This is a good writting of.......\"\n",
    "b=\"a string example\"\n",
    "print(a+b)"
   ]
  },
  {
   "cell_type": "markdown",
   "metadata": {},
   "source": [
    "#  =More Printing="
   ]
  },
  {
   "cell_type": "markdown",
   "metadata": {},
   "source": [
    "Is going to do a bunch of exercises where typing code in and make it run. This exercise is Won’t be explaining because it is more of the same. The purpose is to build up chops."
   ]
  },
  {
   "cell_type": "markdown",
   "metadata": {},
   "source": [
    "# Example"
   ]
  },
  {
   "cell_type": "code",
   "execution_count": 11,
   "metadata": {},
   "outputs": [
    {
     "name": "stdout",
     "output_type": "stream",
     "text": [
      "Iron man has a big tower.\n",
      "It has a lot of technology inside as Aa 3D Printer of IRON\n",
      "And in the night, the tower looks like an.....\n",
      "....................\n",
      "Giant\n",
      "Lamp\n"
     ]
    }
   ],
   "source": [
    "print(\"Iron man has a big tower.\")\n",
    "print(\"It has a lot of technology inside as\", \"Aa 3D Printer of IRON\")\n",
    "print(\"And in the night, the tower looks like an.....\")\n",
    "print(\".\"*20)\n",
    "let=\"G\"\n",
    "let1=\"i\"\n",
    "let2=\"a\"\n",
    "let3=\"n\"\n",
    "let4=\"t\"\n",
    "let5=\"L\"\n",
    "let6=\"a\"\n",
    "let7=\"m\"\n",
    "let8=\"p\"\n",
    "\n",
    "print(let+let1+let2+let3+let4)\n",
    "print(let5+let6+let7+let8)"
   ]
  },
  {
   "cell_type": "markdown",
   "metadata": {},
   "source": [
    "# =Printing, Printing="
   ]
  },
  {
   "cell_type": "markdown",
   "metadata": {},
   "source": [
    "We will now see how to do a more complicated formatting of a string. This code looks complex, but if you do your comments above each line and break each thing down to its parts, you’ll understand it."
   ]
  },
  {
   "cell_type": "markdown",
   "metadata": {},
   "source": [
    "# Example"
   ]
  },
  {
   "cell_type": "code",
   "execution_count": 57,
   "metadata": {},
   "outputs": [
    {
     "name": "stdout",
     "output_type": "stream",
     "text": [
      "5 4 3 2 1 \n",
      "Now lets say the previous numbers\n",
      "Five Four Three Two one \n",
      "False True False True False \n",
      "{} {} {} {} {}  {} {} {} {} {}  {} {} {} {} {}  {} {} {} {} {}  {} {} {} {} {}  \n",
      "The best cars in the world are assembly in Germany And the best cars in the Univers are assembly in MEXICO!!!! \n"
     ]
    }
   ],
   "source": [
    "numbers=\"{} {} {} {} {} \"\n",
    "print(numbers.format(5,4,3,2,1))\n",
    "print(\"Now lets say the previous numbers\")\n",
    "print(numbers.format(\"Five\",\"Four\",\"Three\",\"Two\",\"one\"))\n",
    "print(numbers.format(False, True, False, True, False))\n",
    "print(numbers.format(numbers,numbers,numbers,numbers,numbers))\n",
    "print(numbers.format(\n",
    "    \"The best cars in the world\",\n",
    "    \"are assembly in Germany\",\n",
    "    \"And the best cars\",\n",
    "    \"in the Univers\",\n",
    "    \"are assembly in MEXICO!!!!\"))"
   ]
  },
  {
   "cell_type": "markdown",
   "metadata": {},
   "source": [
    "# =Printing, Printing, Printing="
   ]
  },
  {
   "cell_type": "markdown",
   "metadata": {},
   "source": [
    "As you'll see in the code also is the explication, but basically these example or exeerccise shows two variables which has some names and after that is a \"Print\" Function where you can write \"n\" amount of lines of text paragraphes"
   ]
  },
  {
   "cell_type": "markdown",
   "metadata": {},
   "source": [
    "# Example"
   ]
  },
  {
   "cell_type": "code",
   "execution_count": 66,
   "metadata": {},
   "outputs": [
    {
     "name": "stdout",
     "output_type": "stream",
     "text": [
      "Some greats cars are: VOCHO AVETADOR LOBO CARRERA-GT\n",
      "And the brand which make them are: \n",
      "\n",
      "Volkswagen\n",
      "Lamborginy\n",
      "FORD\n",
      "Porche\n",
      "\n",
      "Here we can write\n",
      "4 lines, using three \n",
      "double-quotes even if \n",
      "we want 6,7 or 8 lines\n",
      "\n"
     ]
    }
   ],
   "source": [
    "cars=\"VOCHO AVETADOR LOBO CARRERA-GT\"\n",
    "brands=\"\\n\\nVolkswagen\\nLamborginy\\nFORD\\nPorche\"\n",
    "print(\"Some greats cars are:\",cars)\n",
    "print(\"And the brand which make them are:\",brands)\n",
    "print(\"\"\"\n",
    "Here we can write\n",
    "4 lines, using three \n",
    "double-quotes even if \n",
    "we want 6,7 or 8 lines\n",
    "\"\"\")"
   ]
  },
  {
   "cell_type": "markdown",
   "metadata": {},
   "source": [
    "# =What Was That?="
   ]
  },
  {
   "cell_type": "markdown",
   "metadata": {},
   "source": [
    " Several ways to make a string were showed. In the first way, We put the characters \\n(backslashn) between the names of the brands. These two characters put a new line character into the string at that point.\n",
    "This \\(backslash) character encodes difficult-to-type characters into a string. There are various ”escape sequences” available for different characters you might want to use.\n",
    "To solve this problem we can use is triple-quotes, which is just \"\"\" and works like a string, but you also can put as many lines of text as you want until you type \"\"\" again. \n"
   ]
  },
  {
   "cell_type": "markdown",
   "metadata": {},
   "source": [
    "# Example"
   ]
  },
  {
   "cell_type": "code",
   "execution_count": 71,
   "metadata": {},
   "outputs": [
    {
     "name": "stdout",
     "output_type": "stream",
     "text": [
      "\tI'm practice python\n",
      "I'm in\n",
      "another line\n",
      "I'm a \\ good programer \\ in python\n",
      "\n",
      "I'll do a list for repair my truck:\n",
      "\t* Oil for TRUCK \n",
      "\t* Tires off road\n",
      "\t* Sparks\n",
      "\t* Air filter\n",
      "\n"
     ]
    }
   ],
   "source": [
    "tabb_tiger=\"\\tI'm practice python\"\n",
    "rusian_tiger=\"I'm in\\nanother line\"\n",
    "german_tiger=\"I'm a \\\\ good programer \\\\ in python\"\n",
    "\n",
    "fast_tiger=\"\"\"\n",
    "I'll do a list for repair my truck:\n",
    "\\t* Oil for TRUCK \n",
    "\\t* Tires off road\n",
    "\\t* Sparks\\n\\t* Air filter\n",
    "\"\"\"\n",
    "print(tabb_tiger)\n",
    "print(rusian_tiger)\n",
    "print(german_tiger)\n",
    "print(fast_tiger)"
   ]
  }
 ],
 "metadata": {
  "kernelspec": {
   "display_name": "Python 3",
   "language": "python",
   "name": "python3"
  },
  "language_info": {
   "codemirror_mode": {
    "name": "ipython",
    "version": 3
   },
   "file_extension": ".py",
   "mimetype": "text/x-python",
   "name": "python",
   "nbconvert_exporter": "python",
   "pygments_lexer": "ipython3",
   "version": "3.7.4"
  }
 },
 "nbformat": 4,
 "nbformat_minor": 2
}
