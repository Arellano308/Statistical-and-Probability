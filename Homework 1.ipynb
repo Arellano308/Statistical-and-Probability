{
 "cells": [
  {
   "cell_type": "markdown",
   "metadata": {},
   "source": [
    "![UTLOGO](http://www.utaltamira.edu.mx/wp-content/uploads/2017/06/BIS-LOGO.png)"
   ]
  },
  {
   "cell_type": "markdown",
   "metadata": {},
   "source": [
    "![Python Logo](https://upload.wikimedia.org/wikipedia/commons/thumb/c/c3/Python-logo-notext.svg/1200px-Python-logo-notext.svg.png)"
   ]
  },
  {
   "cell_type": "markdown",
   "metadata": {},
   "source": [
    "#      Program 6: Strings and Text\n",
    "\n"
   ]
  },
  {
   "cell_type": "markdown",
   "metadata": {},
   "source": [
    "\n",
    "A string is usually a bit of text you want to display to someone or ”export” out of the program you are writing. Python knows you want something to be a string when you put either \" (double-quotes) or ' (single-quotes) around the text. You saw this many times with your use of print when you put the text you want to go inside the string inside \" or ' after the print to print the string.\n",
    "Strings can contain any number of variables that are in your Python script. Remember that a variable is any line of code where you set a name=(equal)toavalue. In the code forth is exercise, types_of_people = 10 creates a variable named types_of_people and sets it=(equal) to 10. You can put that in an y string with {types_of_people}. You also see that I have to use a special type of string to ”format”; it’s called an ”f-string” and looks like this: f”some stuff here { avariable}” f”some other stuff {anothervar}”\n"
   ]
  },
  {
   "cell_type": "markdown",
   "metadata": {},
   "source": [
    "     Example"
   ]
  },
  {
   "cell_type": "code",
   "execution_count": 14,
   "metadata": {},
   "outputs": [
    {
     "name": "stdout",
     "output_type": "stream",
     "text": [
      "There are 20 types of dudes\n",
      "They can be GOOD!! and also they can be BAD :(\n",
      "I told you: There are 20 types of dudes\n",
      "And also I told you:'They can be GOOD!! and also they can be BAD :('\n",
      "This was a good example?!\n",
      "This is a good writting of.......a string example\n"
     ]
    }
   ],
   "source": [
    "types_of_dudes=20\n",
    "x=f\"There are {types_of_dudes} types of dudes\"\n",
    "good=\"GOOD!!\"\n",
    "bad= \"BAD :(\"\n",
    "y=f\"They can be {good} and also they can be {bad}\"\n",
    "\n",
    "print(x)\n",
    "print(y)\n",
    "print(f\"I told you: {x}\")\n",
    "print(f\"And also I told you:'{y}'\")\n",
    "\n",
    "writting= True\n",
    "\n",
    "was_good_writting=\"This was a good example?!\"\n",
    "print(was_good_writting.format(writting))\n",
    "a=\"This is a good writting of.......\"\n",
    "b=\"a string example\"\n",
    "print(a+b)"
   ]
  },
  {
   "cell_type": "markdown",
   "metadata": {},
   "source": [
    "#  Program 7: More Printing"
   ]
  },
  {
   "cell_type": "markdown",
   "metadata": {},
   "source": [
    "Is going to do a bunch of exercises where typing code in and make it run. This exercise is Won’t be explaining because it is more of the same. The purpose is to build up chops."
   ]
  },
  {
   "cell_type": "markdown",
   "metadata": {},
   "source": [
    " Example"
   ]
  },
  {
   "cell_type": "code",
   "execution_count": 11,
   "metadata": {},
   "outputs": [
    {
     "name": "stdout",
     "output_type": "stream",
     "text": [
      "Iron man has a big tower.\n",
      "It has a lot of technology inside as Aa 3D Printer of IRON\n",
      "And in the night, the tower looks like an.....\n",
      "....................\n",
      "Giant\n",
      "Lamp\n"
     ]
    }
   ],
   "source": [
    "print(\"Iron man has a big tower.\")\n",
    "print(\"It has a lot of technology inside as\", \"Aa 3D Printer of IRON\")\n",
    "print(\"And in the night, the tower looks like an.....\")\n",
    "print(\".\"*20)\n",
    "let=\"G\"\n",
    "let1=\"i\"\n",
    "let2=\"a\"\n",
    "let3=\"n\"\n",
    "let4=\"t\"\n",
    "let5=\"L\"\n",
    "let6=\"a\"\n",
    "let7=\"m\"\n",
    "let8=\"p\"\n",
    "\n",
    "print(let+let1+let2+let3+let4)\n",
    "print(let5+let6+let7+let8)"
   ]
  },
  {
   "cell_type": "markdown",
   "metadata": {},
   "source": [
    "# Program 8: Printing, Printing"
   ]
  },
  {
   "cell_type": "markdown",
   "metadata": {},
   "source": [
    "We will now see how to do a more complicated formatting of a string. This code looks complex, but if you do your comments above each line and break each thing down to its parts, you’ll understand it."
   ]
  },
  {
   "cell_type": "markdown",
   "metadata": {},
   "source": [
    "Example"
   ]
  },
  {
   "cell_type": "code",
   "execution_count": 57,
   "metadata": {},
   "outputs": [
    {
     "name": "stdout",
     "output_type": "stream",
     "text": [
      "5 4 3 2 1 \n",
      "Now lets say the previous numbers\n",
      "Five Four Three Two one \n",
      "False True False True False \n",
      "{} {} {} {} {}  {} {} {} {} {}  {} {} {} {} {}  {} {} {} {} {}  {} {} {} {} {}  \n",
      "The best cars in the world are assembly in Germany And the best cars in the Univers are assembly in MEXICO!!!! \n"
     ]
    }
   ],
   "source": [
    "numbers=\"{} {} {} {} {} \"\n",
    "print(numbers.format(5,4,3,2,1))\n",
    "print(\"Now lets say the previous numbers\")\n",
    "print(numbers.format(\"Five\",\"Four\",\"Three\",\"Two\",\"one\"))\n",
    "print(numbers.format(False, True, False, True, False))\n",
    "print(numbers.format(numbers,numbers,numbers,numbers,numbers))\n",
    "print(numbers.format(\n",
    "    \"The best cars in the world\",\n",
    "    \"are assembly in Germany\",\n",
    "    \"And the best cars\",\n",
    "    \"in the Univers\",\n",
    "    \"are assembly in MEXICO!!!!\"))"
   ]
  },
  {
   "cell_type": "markdown",
   "metadata": {},
   "source": [
    "# Program 9:  Printing, Printing, Printing"
   ]
  },
  {
   "cell_type": "markdown",
   "metadata": {},
   "source": [
    "As you'll see in the code also is the explication, but basically these example or exeerccise shows two variables which has some names and after that is a \"Print\" Function where you can write \"n\" amount of lines of text paragraphes"
   ]
  },
  {
   "cell_type": "markdown",
   "metadata": {},
   "source": [
    "Example"
   ]
  },
  {
   "cell_type": "code",
   "execution_count": 77,
   "metadata": {},
   "outputs": [
    {
     "name": "stdout",
     "output_type": "stream",
     "text": [
      "Some greats cars are: VOCHO AVETADOR LOBO CARRERA-GT\n",
      "And the brand which make them are: \n",
      "\n",
      "Volkswagen\n",
      "Lamborghini\n",
      "FORD\n",
      "Porche\n",
      "\n",
      "Here we can write\n",
      "4 lines, using three \n",
      "double-quotes even if \n",
      "we want 6,7 or 8 lines\n",
      "to the infinity and beyond.\n",
      "\n"
     ]
    }
   ],
   "source": [
    "cars=\"VOCHO AVETADOR LOBO CARRERA-GT\"\n",
    "brands=\"\\n\\nVolkswagen\\nLamborghini\\nFORD\\nPorche\"\n",
    "print(\"Some greats cars are:\",cars)\n",
    "print(\"And the brand which make them are:\",brands)\n",
    "print(\"\"\"\n",
    "Here we can write\n",
    "4 lines, using three \n",
    "double-quotes even if \n",
    "we want 6,7 or 8 lines\n",
    "to the infinity and beyond.\n",
    "\"\"\")"
   ]
  },
  {
   "cell_type": "markdown",
   "metadata": {},
   "source": [
    "# Program 10: What Was That?"
   ]
  },
  {
   "cell_type": "markdown",
   "metadata": {},
   "source": [
    " Several ways to make a string were showed. In the first way, We put the characters \\n(backslashn) between the names of the brands. These two characters put a new line character into the string at that point.\n",
    "This \\(backslash) character encodes difficult-to-type characters into a string. There are various ”escape sequences” available for different characters you might want to use.\n",
    "To solve this problem we can use is triple-quotes, which is just \"\"\" and works like a string, but you also can put as many lines of text as you want until you type \"\"\" again. \n"
   ]
  },
  {
   "cell_type": "markdown",
   "metadata": {},
   "source": [
    " Example"
   ]
  },
  {
   "cell_type": "code",
   "execution_count": 76,
   "metadata": {
    "scrolled": true
   },
   "outputs": [
    {
     "name": "stdout",
     "output_type": "stream",
     "text": [
      "\tI'm practice python\n",
      "I'm in\n",
      "another line\n",
      "I'm a \\ good programer \\ in python\n",
      "\n",
      "I'll do a list for repair my truck:\n",
      "\t* Oil for TRUCK \n",
      "\t* Tires off road\n",
      "\t* Sparks\n",
      "\t* Air filter\n",
      "\n"
     ]
    }
   ],
   "source": [
    "tabb_tiger=\"\\tI'm practice python\"\n",
    "rusian_tiger=\"I'm in\\nanother line\"\n",
    "german_tiger=\"I'm a \\\\ good programer \\\\ in python\"\n",
    "\n",
    "fast_tiger=\"\"\"\n",
    "I'll do a list for repair my truck:\n",
    "\\t* Oil for TRUCK \n",
    "\\t* Tires off road\n",
    "\\t* Sparks\\n\\t* Air filter\n",
    "\"\"\"\n",
    "print(tabb_tiger)\n",
    "\n",
    "print(rusian_tiger)\n",
    "\n",
    "print(german_tiger)\n",
    "print(fast_tiger)"
   ]
  }
 ],
 "metadata": {
  "kernelspec": {
   "display_name": "Python 3",
   "language": "python",
   "name": "python3"
  },
  "language_info": {
   "codemirror_mode": {
    "name": "ipython",
    "version": 3
   },
   "file_extension": ".py",
   "mimetype": "text/x-python",
   "name": "python",
   "nbconvert_exporter": "python",
   "pygments_lexer": "ipython3",
   "version": "3.7.4"
  }
 },
 "nbformat": 4,
 "nbformat_minor": 2
}
